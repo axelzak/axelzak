{
  "nbformat": 4,
  "nbformat_minor": 0,
  "metadata": {
    "colab": {
      "provenance": [],
      "authorship_tag": "ABX9TyPsJFO3dfmW4zuydKPbeZdA",
      "include_colab_link": true
    },
    "kernelspec": {
      "name": "python3",
      "display_name": "Python 3"
    },
    "language_info": {
      "name": "python"
    }
  },
  "cells": [
    {
      "cell_type": "markdown",
      "metadata": {
        "id": "view-in-github",
        "colab_type": "text"
      },
      "source": [
        "<a href=\"https://colab.research.google.com/github/axelzak/axelzak/blob/main/Untitled0.ipynb\" target=\"_parent\"><img src=\"https://colab.research.google.com/assets/colab-badge.svg\" alt=\"Open In Colab\"/></a>"
      ]
    },
    {
      "cell_type": "markdown",
      "source": [],
      "metadata": {
        "id": "yxh8QfZdSvfK"
      }
    },
    {
      "cell_type": "markdown",
      "source": [
        "# **Programming in Finance and Economics**\n",
        "\n",
        "USI University in Lugano, Switzerland\n",
        "\n",
        "Final project, end of Fall semester 2024/2025, Master in Finance\n",
        "\n",
        "Imen Ferchichi, Francesca Pjetri, Axel Zaccheo\n",
        "\n",
        "imen.ferchichi@usi.ch; francesca.pjetri@usi.ch; axel.zaccheo@usi.ch\n",
        "\n",
        "\n",
        "\n",
        "\n"
      ],
      "metadata": {
        "id": "UtGGJbWtSxig"
      }
    },
    {
      "cell_type": "markdown",
      "source": [
        "**Part A**\n",
        "\n",
        "We need to find the CIK code of the S&P 100 companies\n",
        "\n",
        "Therefore we start installing and importing all necessary packages"
      ],
      "metadata": {
        "id": "0XBK84YwUzBE"
      }
    },
    {
      "cell_type": "code",
      "source": [
        "!pip install wikipedia yfinance matplotlib numpy pandas requests BeautifulSoup4"
      ],
      "metadata": {
        "colab": {
          "base_uri": "https://localhost:8080/"
        },
        "id": "T3a-qx1HVJV8",
        "outputId": "67c5256e-42c6-4448-8193-5b4239449cc9"
      },
      "execution_count": 5,
      "outputs": [
        {
          "output_type": "stream",
          "name": "stdout",
          "text": [
            "Collecting wikipedia\n",
            "  Downloading wikipedia-1.4.0.tar.gz (27 kB)\n",
            "  Preparing metadata (setup.py) ... \u001b[?25l\u001b[?25hdone\n",
            "Requirement already satisfied: yfinance in /usr/local/lib/python3.10/dist-packages (0.2.50)\n",
            "Requirement already satisfied: matplotlib in /usr/local/lib/python3.10/dist-packages (3.8.0)\n",
            "Requirement already satisfied: numpy in /usr/local/lib/python3.10/dist-packages (1.26.4)\n",
            "Requirement already satisfied: pandas in /usr/local/lib/python3.10/dist-packages (2.2.2)\n",
            "Requirement already satisfied: requests in /usr/local/lib/python3.10/dist-packages (2.32.3)\n",
            "Requirement already satisfied: BeautifulSoup4 in /usr/local/lib/python3.10/dist-packages (4.12.3)\n",
            "Requirement already satisfied: multitasking>=0.0.7 in /usr/local/lib/python3.10/dist-packages (from yfinance) (0.0.11)\n",
            "Requirement already satisfied: lxml>=4.9.1 in /usr/local/lib/python3.10/dist-packages (from yfinance) (5.3.0)\n",
            "Requirement already satisfied: platformdirs>=2.0.0 in /usr/local/lib/python3.10/dist-packages (from yfinance) (4.3.6)\n",
            "Requirement already satisfied: pytz>=2022.5 in /usr/local/lib/python3.10/dist-packages (from yfinance) (2024.2)\n",
            "Requirement already satisfied: frozendict>=2.3.4 in /usr/local/lib/python3.10/dist-packages (from yfinance) (2.4.6)\n",
            "Requirement already satisfied: peewee>=3.16.2 in /usr/local/lib/python3.10/dist-packages (from yfinance) (3.17.8)\n",
            "Requirement already satisfied: html5lib>=1.1 in /usr/local/lib/python3.10/dist-packages (from yfinance) (1.1)\n",
            "Requirement already satisfied: contourpy>=1.0.1 in /usr/local/lib/python3.10/dist-packages (from matplotlib) (1.3.1)\n",
            "Requirement already satisfied: cycler>=0.10 in /usr/local/lib/python3.10/dist-packages (from matplotlib) (0.12.1)\n",
            "Requirement already satisfied: fonttools>=4.22.0 in /usr/local/lib/python3.10/dist-packages (from matplotlib) (4.55.3)\n",
            "Requirement already satisfied: kiwisolver>=1.0.1 in /usr/local/lib/python3.10/dist-packages (from matplotlib) (1.4.7)\n",
            "Requirement already satisfied: packaging>=20.0 in /usr/local/lib/python3.10/dist-packages (from matplotlib) (24.2)\n",
            "Requirement already satisfied: pillow>=6.2.0 in /usr/local/lib/python3.10/dist-packages (from matplotlib) (11.0.0)\n",
            "Requirement already satisfied: pyparsing>=2.3.1 in /usr/local/lib/python3.10/dist-packages (from matplotlib) (3.2.0)\n",
            "Requirement already satisfied: python-dateutil>=2.7 in /usr/local/lib/python3.10/dist-packages (from matplotlib) (2.8.2)\n",
            "Requirement already satisfied: tzdata>=2022.7 in /usr/local/lib/python3.10/dist-packages (from pandas) (2024.2)\n",
            "Requirement already satisfied: charset-normalizer<4,>=2 in /usr/local/lib/python3.10/dist-packages (from requests) (3.4.0)\n",
            "Requirement already satisfied: idna<4,>=2.5 in /usr/local/lib/python3.10/dist-packages (from requests) (3.10)\n",
            "Requirement already satisfied: urllib3<3,>=1.21.1 in /usr/local/lib/python3.10/dist-packages (from requests) (2.2.3)\n",
            "Requirement already satisfied: certifi>=2017.4.17 in /usr/local/lib/python3.10/dist-packages (from requests) (2024.12.14)\n",
            "Requirement already satisfied: soupsieve>1.2 in /usr/local/lib/python3.10/dist-packages (from BeautifulSoup4) (2.6)\n",
            "Requirement already satisfied: six>=1.9 in /usr/local/lib/python3.10/dist-packages (from html5lib>=1.1->yfinance) (1.17.0)\n",
            "Requirement already satisfied: webencodings in /usr/local/lib/python3.10/dist-packages (from html5lib>=1.1->yfinance) (0.5.1)\n",
            "Building wheels for collected packages: wikipedia\n",
            "  Building wheel for wikipedia (setup.py) ... \u001b[?25l\u001b[?25hdone\n",
            "  Created wheel for wikipedia: filename=wikipedia-1.4.0-py3-none-any.whl size=11679 sha256=b9a4ad7202616d07daf0304c78dfa2fb93d59f6d1a420610f725825898bf2e5c\n",
            "  Stored in directory: /root/.cache/pip/wheels/5e/b6/c5/93f3dec388ae76edc830cb42901bb0232504dfc0df02fc50de\n",
            "Successfully built wikipedia\n",
            "Installing collected packages: wikipedia\n",
            "Successfully installed wikipedia-1.4.0\n"
          ]
        }
      ]
    },
    {
      "cell_type": "code",
      "source": [
        "import matplotlib.pyplot as plt\n",
        "import matplotlib.dates as mdates\n",
        "import numpy as np\n",
        "import pandas as pd\n",
        "import wikipedia as wp\n",
        "import yfinance as yf\n",
        "import requests\n",
        "import os\n",
        "import re\n",
        "import unicodedata\n",
        "import csv\n",
        "from bs4 import BeautifulSoup\n",
        "import json\n",
        "from datetime import datetime"
      ],
      "metadata": {
        "id": "rsFwHvnJUHJJ"
      },
      "execution_count": 6,
      "outputs": []
    },
    {
      "cell_type": "code",
      "source": [
        "# Import all S&P 100 companies Ticker, Name and Sector\n",
        "# SP100AnalysiswithGNNs\n",
        "# @author: timothewt\n",
        "# https://github.com/timothewt/SP100AnalysisWithGNNs/blob/master/notebooks/1-data_collection_and_preprocessing.ipynb\n",
        "\n",
        "\n",
        "html = wp.page(\"S&P 100\").html().encode(\"UTF-8\")\n",
        "stocks = pd.read_html(html)[2].set_index(\"Symbol\")\n",
        "stocks = stocks.drop(\"GOOG\")\n",
        "stocks.loc[\"GOOGL\", \"Name\"] = \"Alphabet\"\n",
        "stocks = stocks.rename(index={\"BRK.B\": \"BRK-B\"})\n",
        "print(stocks)\n",
        "\n",
        "# Extract tickers from first column and create a list with quotation marks\n",
        "tickers_sp100 = stocks.index.tolist()\n",
        "\n"
      ],
      "metadata": {
        "colab": {
          "base_uri": "https://localhost:8080/"
        },
        "id": "yrD8XhkEUiaA",
        "outputId": "5a96d056-24f5-4067-82c6-66f135771713"
      },
      "execution_count": 10,
      "outputs": [
        {
          "output_type": "stream",
          "name": "stdout",
          "text": [
            "                       Name                  Sector\n",
            "Symbol                                             \n",
            "AAPL             Apple Inc.  Information Technology\n",
            "ABBV                 AbbVie             Health Care\n",
            "ABT     Abbott Laboratories             Health Care\n",
            "ACN               Accenture  Information Technology\n",
            "ADBE             Adobe Inc.  Information Technology\n",
            "...                     ...                     ...\n",
            "V                 Visa Inc.  Information Technology\n",
            "VZ                  Verizon  Communication Services\n",
            "WFC             Wells Fargo              Financials\n",
            "WMT                 Walmart        Consumer Staples\n",
            "XOM              ExxonMobil                  Energy\n",
            "\n",
            "[100 rows x 2 columns]\n"
          ]
        }
      ]
    },
    {
      "cell_type": "code",
      "source": [
        "# SEC Filing Scraper\n",
        "# @author: AdamGetbags\n",
        "# https://github.com/AdamGetbags/secAPI/blob/main/secFilingScraper.py\n",
        "\n",
        "# Create request header\n",
        "headers = {'User-Agent': \"axelzaccheo@gmail.com\"}\n",
        "# Get all companies data\n",
        "companyTickers = requests.get(\n",
        "    \"https://www.sec.gov/files/company_tickers.json\",\n",
        "    headers=headers\n",
        "    )\n",
        "\n",
        "# Review response / keys\n",
        "## print(companyTickers.json().keys())\n",
        "\n",
        "# Format response to dictionary and get first key/value\n",
        "firstEntry = companyTickers.json()['0']\n",
        "# Parse CIK // without leading zeros\n",
        "directCik = companyTickers.json()['0']['cik_str']\n",
        "\n",
        "# Dictionary to dataframe\n",
        "companyData = pd.DataFrame.from_dict(companyTickers.json(),\n",
        "                                     orient='index')\n",
        "\n",
        "# Add leading zeros to CIK\n",
        "companyData['cik_str'] = companyData['cik_str'].astype(\n",
        "                           str).str.zfill(10)\n",
        "# Review data\n",
        "print(companyData)"
      ],
      "metadata": {
        "colab": {
          "base_uri": "https://localhost:8080/"
        },
        "id": "QowS0Q-HV_wL",
        "outputId": "021ae158-c091-437f-f954-682c846d46f1"
      },
      "execution_count": 11,
      "outputs": [
        {
          "output_type": "stream",
          "name": "stdout",
          "text": [
            "         cik_str ticker                            title\n",
            "0     0000320193   AAPL                       Apple Inc.\n",
            "1     0001045810   NVDA                      NVIDIA CORP\n",
            "2     0000789019   MSFT                   MICROSOFT CORP\n",
            "3     0001652044  GOOGL                    Alphabet Inc.\n",
            "4     0001018724   AMZN                   AMAZON COM INC\n",
            "...          ...    ...                              ...\n",
            "9973  0001882464  MSSAR  Metal Sky Star Acquisition Corp\n",
            "9974  0001882464  MSSAU  Metal Sky Star Acquisition Corp\n",
            "9975  0001882464  MSSAW  Metal Sky Star Acquisition Corp\n",
            "9976  0001889983  KVACU    Keen Vision Acquisition Corp.\n",
            "9977  0001889983  KVACW    Keen Vision Acquisition Corp.\n",
            "\n",
            "[9978 rows x 3 columns]\n"
          ]
        }
      ]
    },
    {
      "cell_type": "code",
      "source": [],
      "metadata": {
        "id": "jP0DmcobWKV4"
      },
      "execution_count": null,
      "outputs": []
    }
  ]
}